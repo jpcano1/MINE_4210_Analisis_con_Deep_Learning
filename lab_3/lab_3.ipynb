{
  "nbformat": 4,
  "nbformat_minor": 0,
  "metadata": {
    "colab": {
      "name": "lab_3.ipynb",
      "provenance": [],
      "collapsed_sections": []
    },
    "kernelspec": {
      "name": "python3",
      "display_name": "Python 3"
    },
    "language_info": {
      "name": "python"
    }
  },
  "cells": [
    {
      "cell_type": "markdown",
      "metadata": {
        "id": "DXPaGTNCSiLn"
      },
      "source": [
        "![image](https://docs.google.com/uc?export=download&id=1NUy1Q-abpoV9XYK9qT9t8Mdhj3ZVlveO)\n",
        "\n",
        "<table align=\"center\">\n",
        "  <td>\n",
        "    <a href=\"https://colab.research.google.com/github/jpcano1/MINE_4210_Analisis_con_Deep_Learning/blob/master/lab_2/lab_2.ipynb\" target=\"_blank\"><img src=\"https://colab.research.google.com/assets/colab-badge.svg\" alt=\"Open In Colab\"/>\n",
        "  </td>\n",
        "</table>\n",
        "\n",
        "## **Laboratorio 3**\n",
        "- En un hospital de Colombia buscan detectar lo cráneos de los fetos en las ecografías de 3, 5 y 7 meses de embarazo para trazabilidad del crecimiento del feto. De esta forma, se podrá saber si hay alguna anomalía durante el embarazo de la madre o si, por el contrario, el bebé está sano. Los cráneos fueron etiquetados únicamente con el borde craneal, de modo que, los datos se ven de la siguiente forma:\n",
        "\n",
        "![image](https://docs.google.com/uc?export=download&id=1Nt5Ol54JYMM3htCTw5LljsoMcWQDpnAm)\n",
        "\n",
        "Es su deber utilizar una función de relleno morfológico binario para construir la etiqueta correctamente.\n",
        "\n",
        "> [Link del dataset de entrenamiento](https://zenodo.org/record/1322001/files/training_set.zip?download=1)\n",
        "\n",
        "> [Link del dataset de testing](https://zenodo.org/record/1322001/files/test_set.zip?download=1)"
      ]
    },
    {
      "cell_type": "code",
      "metadata": {
        "id": "EWr0tAb5yz9d"
      },
      "source": [
        ""
      ],
      "execution_count": null,
      "outputs": []
    }
  ]
}