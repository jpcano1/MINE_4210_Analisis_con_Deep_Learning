{
  "nbformat": 4,
  "nbformat_minor": 0,
  "metadata": {
    "colab": {
      "name": "lab_1.ipynb",
      "provenance": [],
      "collapsed_sections": []
    },
    "kernelspec": {
      "name": "python3",
      "display_name": "Python 3"
    },
    "language_info": {
      "name": "python"
    }
  },
  "cells": [
    {
      "cell_type": "markdown",
      "metadata": {
        "id": "dsUSL7xddRdT"
      },
      "source": [
        "![image](https://docs.google.com/uc?export=download&id=1NUy1Q-abpoV9XYK9qT9t8Mdhj3ZVlveO)\n",
        "\n",
        "<table align=\"center\">\n",
        "  <td>\n",
        "    <a href=\"https://colab.research.google.com/github/jpcano1/MINE_4210_Analisis_con_Deep_Learning/blob/master/lab_1/practica_3/practica_3.ipynb\" target=\"_blank\"><img src=\"https://colab.research.google.com/assets/colab-badge.svg\" alt=\"Open In Colab\"/>\n",
        "  </td>\n",
        "</table>\n",
        "\n",
        "## **Laboratorio 1**\n",
        "- La neumonía es una forma de infección respiratoria aguda que afecta a los pulmones. Cuando una persona padece esta enfermedad los alvéolos se llenan de pus y líquido, lo que hace que la respiración sea dolorosa y se limita el consumo de oxígeno (OMS).\n",
        "\n",
        "    Una técnica estándar ampliamente aceptada para su detección y análisis es la radiografía de tórax, la cual es base para la toma decisiones relacionadas con el tratamiento a seguir. Dadas las complicaciones que pueden surgir en pacientes mayores y en niños cuando la enfermedad se encuentra en estado avanzado, el diagnóstico temprano resulta fundamental para una intervención oportuna.\n",
        "\n",
        "    Con este propósito, se desea construir un modelo de predicción para la neumonía, a partir de un conjunto de imágenes de rayos x de pacientes sanos y pacientes enfermos, que pueda apoyar el diagnóstico.\n",
        "\n",
        "> OMS (s.f.). “Pneumonia”. https://www.who.int/news-room/fact-sheets/detail/pneumonia\n",
        "\n",
        "> [Link del dataset](https://drive.google.com/file/d/1dkdKxEIMMTFhg3utoxGIADiJlgJHf6gl/view?usp=sharing)"
      ]
    },
    {
      "cell_type": "code",
      "metadata": {
        "id": "IIfaB83ZjxgM"
      },
      "source": [
        ""
      ],
      "execution_count": null,
      "outputs": []
    }
  ]
}