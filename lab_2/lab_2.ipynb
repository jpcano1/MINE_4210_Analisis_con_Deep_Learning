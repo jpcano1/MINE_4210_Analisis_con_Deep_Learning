{
  "nbformat": 4,
  "nbformat_minor": 0,
  "metadata": {
    "colab": {
      "name": "lab_2.ipynb",
      "provenance": [],
      "collapsed_sections": []
    },
    "kernelspec": {
      "name": "python3",
      "display_name": "Python 3"
    },
    "language_info": {
      "name": "python"
    }
  },
  "cells": [
    {
      "cell_type": "markdown",
      "metadata": {
        "id": "q5Eg2yHpbR3Q"
      },
      "source": [
        "![image](https://docs.google.com/uc?export=download&id=1NUy1Q-abpoV9XYK9qT9t8Mdhj3ZVlveO)\n",
        "\n",
        "<table align=\"center\">\n",
        "  <td>\n",
        "    <a href=\"https://colab.research.google.com/github/jpcano1/MINE_4210_Analisis_con_Deep_Learning/blob/master/lab_2/lab_2.ipynb\" target=\"_blank\"><img src=\"https://colab.research.google.com/assets/colab-badge.svg\" alt=\"Open In Colab\"/>\n",
        "  </td>\n",
        "</table>\n",
        "\n",
        "## **Laboratorio 2**\n",
        "- Los ataques en IoT son de carácter frecuente, por lo que es de suma importancia aprender a detectarlos para reducir su incidencia de forma eficiente. A continuación, se presentan los datos de 9 dispositivos de IoT conectados sobre una misma red. Los datos fueron recogidos utilizando Wireshark. Asimismo, los ataques fueron etiquetados con la categoría 1 y el tráfico normal con la categoría 0. Los datos se componen de medidas estadísticas sobre las métricas de red recogidas. Su objetivo será detectar dichos ataques utilizando un autoencoder como modelo de reconstrucción.\n",
        "\n",
        "> [Link del dataset](https://www.kaggle.com/azalhowaide/iot-dataset-for-intrusion-detection-systems-ids)"
      ]
    },
    {
      "cell_type": "code",
      "metadata": {
        "id": "xSJJL6D6boS6"
      },
      "source": [
        ""
      ],
      "execution_count": null,
      "outputs": []
    }
  ]
}