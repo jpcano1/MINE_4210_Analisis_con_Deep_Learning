{
  "nbformat": 4,
  "nbformat_minor": 0,
  "metadata": {
    "colab": {
      "name": "practica_4.ipynb",
      "provenance": [],
      "collapsed_sections": []
    },
    "kernelspec": {
      "name": "python3",
      "display_name": "Python 3"
    },
    "language_info": {
      "name": "python"
    },
    "widgets": {
      "application/vnd.jupyter.widget-state+json": {
        "6a5bd31e24f740a39084208d7ca20d5a": {
          "model_module": "@jupyter-widgets/controls",
          "model_name": "HBoxModel",
          "model_module_version": "1.5.0",
          "state": {
            "_view_name": "HBoxView",
            "_dom_classes": [],
            "_model_name": "HBoxModel",
            "_view_module": "@jupyter-widgets/controls",
            "_model_module_version": "1.5.0",
            "_view_count": null,
            "_view_module_version": "1.5.0",
            "box_style": "",
            "layout": "IPY_MODEL_7b91426ee5e94cc1914678f1fa8fe69d",
            "_model_module": "@jupyter-widgets/controls",
            "children": [
              "IPY_MODEL_1a7768a4f7e64d34b71e21957c39c5bb",
              "IPY_MODEL_bf63da2fe0b44988a13603a717805bfe",
              "IPY_MODEL_d164791f7cdf429cbaf49e045f0a6124"
            ]
          }
        },
        "7b91426ee5e94cc1914678f1fa8fe69d": {
          "model_module": "@jupyter-widgets/base",
          "model_name": "LayoutModel",
          "model_module_version": "1.2.0",
          "state": {
            "_view_name": "LayoutView",
            "grid_template_rows": null,
            "right": null,
            "justify_content": null,
            "_view_module": "@jupyter-widgets/base",
            "overflow": null,
            "_model_module_version": "1.2.0",
            "_view_count": null,
            "flex_flow": null,
            "width": null,
            "min_width": null,
            "border": null,
            "align_items": null,
            "bottom": null,
            "_model_module": "@jupyter-widgets/base",
            "top": null,
            "grid_column": null,
            "overflow_y": null,
            "overflow_x": null,
            "grid_auto_flow": null,
            "grid_area": null,
            "grid_template_columns": null,
            "flex": null,
            "_model_name": "LayoutModel",
            "justify_items": null,
            "grid_row": null,
            "max_height": null,
            "align_content": null,
            "visibility": null,
            "align_self": null,
            "height": null,
            "min_height": null,
            "padding": null,
            "grid_auto_rows": null,
            "grid_gap": null,
            "max_width": null,
            "order": null,
            "_view_module_version": "1.2.0",
            "grid_template_areas": null,
            "object_position": null,
            "object_fit": null,
            "grid_auto_columns": null,
            "margin": null,
            "display": null,
            "left": null
          }
        },
        "1a7768a4f7e64d34b71e21957c39c5bb": {
          "model_module": "@jupyter-widgets/controls",
          "model_name": "HTMLModel",
          "model_module_version": "1.5.0",
          "state": {
            "_view_name": "HTMLView",
            "style": "IPY_MODEL_5cf64a445c3e4ceab835e1520fd648d9",
            "_dom_classes": [],
            "description": "",
            "_model_name": "HTMLModel",
            "placeholder": "​",
            "_view_module": "@jupyter-widgets/controls",
            "_model_module_version": "1.5.0",
            "value": "100%",
            "_view_count": null,
            "_view_module_version": "1.5.0",
            "description_tooltip": null,
            "_model_module": "@jupyter-widgets/controls",
            "layout": "IPY_MODEL_224d8828153345bdac4f847dfe39699d"
          }
        },
        "bf63da2fe0b44988a13603a717805bfe": {
          "model_module": "@jupyter-widgets/controls",
          "model_name": "FloatProgressModel",
          "model_module_version": "1.5.0",
          "state": {
            "_view_name": "ProgressView",
            "style": "IPY_MODEL_b1f942b55333404ca4f29cd073016248",
            "_dom_classes": [],
            "description": "",
            "_model_name": "FloatProgressModel",
            "bar_style": "success",
            "max": 3,
            "_view_module": "@jupyter-widgets/controls",
            "_model_module_version": "1.5.0",
            "value": 3,
            "_view_count": null,
            "_view_module_version": "1.5.0",
            "orientation": "horizontal",
            "min": 0,
            "description_tooltip": null,
            "_model_module": "@jupyter-widgets/controls",
            "layout": "IPY_MODEL_6e49a0f6d07f4f63b4653eff6ffed883"
          }
        },
        "d164791f7cdf429cbaf49e045f0a6124": {
          "model_module": "@jupyter-widgets/controls",
          "model_name": "HTMLModel",
          "model_module_version": "1.5.0",
          "state": {
            "_view_name": "HTMLView",
            "style": "IPY_MODEL_065348743886455fb4105b558dfbbaae",
            "_dom_classes": [],
            "description": "",
            "_model_name": "HTMLModel",
            "placeholder": "​",
            "_view_module": "@jupyter-widgets/controls",
            "_model_module_version": "1.5.0",
            "value": " 3/3 [00:00&lt;00:00, 87.37KB/s]",
            "_view_count": null,
            "_view_module_version": "1.5.0",
            "description_tooltip": null,
            "_model_module": "@jupyter-widgets/controls",
            "layout": "IPY_MODEL_e350fd61337443e08ae0ffc07a1d2d96"
          }
        },
        "5cf64a445c3e4ceab835e1520fd648d9": {
          "model_module": "@jupyter-widgets/controls",
          "model_name": "DescriptionStyleModel",
          "model_module_version": "1.5.0",
          "state": {
            "_view_name": "StyleView",
            "_model_name": "DescriptionStyleModel",
            "description_width": "",
            "_view_module": "@jupyter-widgets/base",
            "_model_module_version": "1.5.0",
            "_view_count": null,
            "_view_module_version": "1.2.0",
            "_model_module": "@jupyter-widgets/controls"
          }
        },
        "224d8828153345bdac4f847dfe39699d": {
          "model_module": "@jupyter-widgets/base",
          "model_name": "LayoutModel",
          "model_module_version": "1.2.0",
          "state": {
            "_view_name": "LayoutView",
            "grid_template_rows": null,
            "right": null,
            "justify_content": null,
            "_view_module": "@jupyter-widgets/base",
            "overflow": null,
            "_model_module_version": "1.2.0",
            "_view_count": null,
            "flex_flow": null,
            "width": null,
            "min_width": null,
            "border": null,
            "align_items": null,
            "bottom": null,
            "_model_module": "@jupyter-widgets/base",
            "top": null,
            "grid_column": null,
            "overflow_y": null,
            "overflow_x": null,
            "grid_auto_flow": null,
            "grid_area": null,
            "grid_template_columns": null,
            "flex": null,
            "_model_name": "LayoutModel",
            "justify_items": null,
            "grid_row": null,
            "max_height": null,
            "align_content": null,
            "visibility": null,
            "align_self": null,
            "height": null,
            "min_height": null,
            "padding": null,
            "grid_auto_rows": null,
            "grid_gap": null,
            "max_width": null,
            "order": null,
            "_view_module_version": "1.2.0",
            "grid_template_areas": null,
            "object_position": null,
            "object_fit": null,
            "grid_auto_columns": null,
            "margin": null,
            "display": null,
            "left": null
          }
        },
        "b1f942b55333404ca4f29cd073016248": {
          "model_module": "@jupyter-widgets/controls",
          "model_name": "ProgressStyleModel",
          "model_module_version": "1.5.0",
          "state": {
            "_view_name": "StyleView",
            "_model_name": "ProgressStyleModel",
            "description_width": "",
            "_view_module": "@jupyter-widgets/base",
            "_model_module_version": "1.5.0",
            "_view_count": null,
            "_view_module_version": "1.2.0",
            "bar_color": null,
            "_model_module": "@jupyter-widgets/controls"
          }
        },
        "6e49a0f6d07f4f63b4653eff6ffed883": {
          "model_module": "@jupyter-widgets/base",
          "model_name": "LayoutModel",
          "model_module_version": "1.2.0",
          "state": {
            "_view_name": "LayoutView",
            "grid_template_rows": null,
            "right": null,
            "justify_content": null,
            "_view_module": "@jupyter-widgets/base",
            "overflow": null,
            "_model_module_version": "1.2.0",
            "_view_count": null,
            "flex_flow": null,
            "width": null,
            "min_width": null,
            "border": null,
            "align_items": null,
            "bottom": null,
            "_model_module": "@jupyter-widgets/base",
            "top": null,
            "grid_column": null,
            "overflow_y": null,
            "overflow_x": null,
            "grid_auto_flow": null,
            "grid_area": null,
            "grid_template_columns": null,
            "flex": null,
            "_model_name": "LayoutModel",
            "justify_items": null,
            "grid_row": null,
            "max_height": null,
            "align_content": null,
            "visibility": null,
            "align_self": null,
            "height": null,
            "min_height": null,
            "padding": null,
            "grid_auto_rows": null,
            "grid_gap": null,
            "max_width": null,
            "order": null,
            "_view_module_version": "1.2.0",
            "grid_template_areas": null,
            "object_position": null,
            "object_fit": null,
            "grid_auto_columns": null,
            "margin": null,
            "display": null,
            "left": null
          }
        },
        "065348743886455fb4105b558dfbbaae": {
          "model_module": "@jupyter-widgets/controls",
          "model_name": "DescriptionStyleModel",
          "model_module_version": "1.5.0",
          "state": {
            "_view_name": "StyleView",
            "_model_name": "DescriptionStyleModel",
            "description_width": "",
            "_view_module": "@jupyter-widgets/base",
            "_model_module_version": "1.5.0",
            "_view_count": null,
            "_view_module_version": "1.2.0",
            "_model_module": "@jupyter-widgets/controls"
          }
        },
        "e350fd61337443e08ae0ffc07a1d2d96": {
          "model_module": "@jupyter-widgets/base",
          "model_name": "LayoutModel",
          "model_module_version": "1.2.0",
          "state": {
            "_view_name": "LayoutView",
            "grid_template_rows": null,
            "right": null,
            "justify_content": null,
            "_view_module": "@jupyter-widgets/base",
            "overflow": null,
            "_model_module_version": "1.2.0",
            "_view_count": null,
            "flex_flow": null,
            "width": null,
            "min_width": null,
            "border": null,
            "align_items": null,
            "bottom": null,
            "_model_module": "@jupyter-widgets/base",
            "top": null,
            "grid_column": null,
            "overflow_y": null,
            "overflow_x": null,
            "grid_auto_flow": null,
            "grid_area": null,
            "grid_template_columns": null,
            "flex": null,
            "_model_name": "LayoutModel",
            "justify_items": null,
            "grid_row": null,
            "max_height": null,
            "align_content": null,
            "visibility": null,
            "align_self": null,
            "height": null,
            "min_height": null,
            "padding": null,
            "grid_auto_rows": null,
            "grid_gap": null,
            "max_width": null,
            "order": null,
            "_view_module_version": "1.2.0",
            "grid_template_areas": null,
            "object_position": null,
            "object_fit": null,
            "grid_auto_columns": null,
            "margin": null,
            "display": null,
            "left": null
          }
        }
      }
    }
  },
  "cells": [
    {
      "cell_type": "markdown",
      "metadata": {
        "id": "Qz3lK2lNoGDH"
      },
      "source": [
        "![image](https://docs.google.com/uc?export=download&id=1NUy1Q-abpoV9XYK9qT9t8Mdhj3ZVlveO)\n",
        "\n",
        "<table align=\"center\">\n",
        "  <td>\n",
        "    <a href=\"https://colab.research.google.com/github/jpcano1/MINE_4210_Analisis_con_Deep_Learning/blob/master/lab_2/practica_4/practica_4.ipynb\" target=\"_blank\"><img src=\"https://colab.research.google.com/assets/colab-badge.svg\" alt=\"Open In Colab\"/>\n",
        "  </td>\n",
        "</table>\n",
        "\n",
        "# **Pŕactica No. 4**\n",
        "## **Introducción al Autoencoder**\n",
        "\n",
        "## **Objetivos**\n",
        "- Introducirnos a la arquitectura del Autoencoder\n",
        "- Procesar imágenes con Deep Learning\n",
        "\n",
        "## **Problema**\n",
        "- Se busca clasificar un dataset con imágenes de ropa, sin embargo, los datos se tomaron con una cámara en mal estado, por lo que salieron con algo de ruido en sus píxeles. Nuestro deber como ingenieros, es hacer uso del Deep Learning para limpiar el ruido de estas imágenes.\n"
      ]
    },
    {
      "cell_type": "code",
      "metadata": {
        "colab": {
          "base_uri": "https://localhost:8080/",
          "height": 83,
          "referenced_widgets": [
            "6a5bd31e24f740a39084208d7ca20d5a",
            "7b91426ee5e94cc1914678f1fa8fe69d",
            "1a7768a4f7e64d34b71e21957c39c5bb",
            "bf63da2fe0b44988a13603a717805bfe",
            "d164791f7cdf429cbaf49e045f0a6124",
            "5cf64a445c3e4ceab835e1520fd648d9",
            "224d8828153345bdac4f847dfe39699d",
            "b1f942b55333404ca4f29cd073016248",
            "6e49a0f6d07f4f63b4653eff6ffed883",
            "065348743886455fb4105b558dfbbaae",
            "e350fd61337443e08ae0ffc07a1d2d96"
          ]
        },
        "id": "Tu-dTfRJCPVW",
        "outputId": "f3c97f19-697c-4fc6-ba34-580d9a80f7e2"
      },
      "source": [
        "!shred -u setup_colab_general.py\n",
        "!wget -q \"https://github.com/jpcano1/python_utils/raw/main/setup_colab_general.py\" -O setup_colab_general.py\n",
        "import setup_colab_general as setup_general\n",
        "setup_general.setup_general()"
      ],
      "execution_count": 1,
      "outputs": [
        {
          "output_type": "stream",
          "name": "stdout",
          "text": [
            "shred: setup_colab_general.py: failed to open for writing: No such file or directory\n"
          ]
        },
        {
          "output_type": "display_data",
          "data": {
            "application/vnd.jupyter.widget-view+json": {
              "model_id": "6a5bd31e24f740a39084208d7ca20d5a",
              "version_minor": 0,
              "version_major": 2
            },
            "text/plain": [
              "  0%|          | 0/3 [00:00<?, ?KB/s]"
            ]
          },
          "metadata": {}
        },
        {
          "output_type": "stream",
          "name": "stdout",
          "text": [
            "General Functions Enabled Successfully\n"
          ]
        }
      ]
    },
    {
      "cell_type": "markdown",
      "metadata": {
        "id": "EldCoZ9-qfT6"
      },
      "source": [
        "## **Importando las librerías necesarias para el laboratorio**"
      ]
    },
    {
      "cell_type": "code",
      "metadata": {
        "id": "Wlf1ez5RCmE_"
      },
      "source": [
        "import numpy as np\n",
        "import pandas as pd\n",
        "\n",
        "import tensorflow as tf\n",
        "from tensorflow import keras\n",
        "\n",
        "import matplotlib.pyplot as plt\n",
        "plt.style.use(\"seaborn-deep\")\n",
        "import seaborn as sns\n",
        "\n",
        "from skimage import util\n",
        "\n",
        "from utils import general as gen\n",
        "\n",
        "from sklearn.model_selection import train_test_split\n",
        "from sklearn.metrics import mean_absolute_error, mean_squared_error, r2_score"
      ],
      "execution_count": 2,
      "outputs": []
    },
    {
      "cell_type": "code",
      "metadata": {
        "id": "1uIIHYkyCt51",
        "colab": {
          "base_uri": "https://localhost:8080/"
        },
        "outputId": "ebd060f0-5642-4ac7-c7bd-faa5e724274a"
      },
      "source": [
        "(full_X_train, _), (X_test, _) = keras.datasets.fashion_mnist.load_data()"
      ],
      "execution_count": 3,
      "outputs": [
        {
          "output_type": "stream",
          "name": "stdout",
          "text": [
            "Downloading data from https://storage.googleapis.com/tensorflow/tf-keras-datasets/train-labels-idx1-ubyte.gz\n",
            "32768/29515 [=================================] - 0s 0us/step\n",
            "40960/29515 [=========================================] - 0s 0us/step\n",
            "Downloading data from https://storage.googleapis.com/tensorflow/tf-keras-datasets/train-images-idx3-ubyte.gz\n",
            "26427392/26421880 [==============================] - 0s 0us/step\n",
            "26435584/26421880 [==============================] - 0s 0us/step\n",
            "Downloading data from https://storage.googleapis.com/tensorflow/tf-keras-datasets/t10k-labels-idx1-ubyte.gz\n",
            "16384/5148 [===============================================================================================] - 0s 0us/step\n",
            "Downloading data from https://storage.googleapis.com/tensorflow/tf-keras-datasets/t10k-images-idx3-ubyte.gz\n",
            "4423680/4422102 [==============================] - 0s 0us/step\n",
            "4431872/4422102 [==============================] - 0s 0us/step\n"
          ]
        }
      ]
    },
    {
      "cell_type": "code",
      "metadata": {
        "colab": {
          "base_uri": "https://localhost:8080/"
        },
        "id": "gyPat1FKC6qR",
        "outputId": "b4461284-8176-49f6-a433-c0c1b5fba473"
      },
      "source": [
        "full_X_train.shape, X_test.shape"
      ],
      "execution_count": 4,
      "outputs": [
        {
          "output_type": "execute_result",
          "data": {
            "text/plain": [
              "((60000, 28, 28), (10000, 28, 28))"
            ]
          },
          "metadata": {},
          "execution_count": 4
        }
      ]
    },
    {
      "cell_type": "code",
      "metadata": {
        "id": "wzhsYc8UC801"
      },
      "source": [
        "np.random.seed(0)\n",
        "random_sample = np.random.choice(len(full_X_train), size=9)"
      ],
      "execution_count": 5,
      "outputs": []
    },
    {
      "cell_type": "markdown",
      "metadata": {
        "id": "bcxtoDAZqmgn"
      },
      "source": [
        "## **Visualización y Preparación**"
      ]
    },
    {
      "cell_type": "code",
      "metadata": {
        "colab": {
          "base_uri": "https://localhost:8080/",
          "height": 357
        },
        "id": "U-OyWFo7DEMW",
        "outputId": "3fd68703-b6bd-4a06-cc71-9df7393f8a09"
      },
      "source": [
        "gen.visualize_subplot(\n",
        "    full_X_train[random_sample],\n",
        "    [\"\"] * len(random_sample), \n",
        "    (3, 3), (6, 6)\n",
        ")"
      ],
      "execution_count": 6,
      "outputs": [
        {
          "output_type": "display_data",
          "data": {
            "image/png": "[encoded data removed]",
            "text/plain": [
              "<Figure size 432x432 with 9 Axes>"
            ]
          },
          "metadata": {
            "needs_background": "light"
          }
        }
      ]
    },
    {
      "cell_type": "code",
      "metadata": {
        "id": "nPsPdZiYGBfd"
      },
      "source": [
        "full_X_train = full_X_train / 255.\n",
        "X_test = X_test / 255."
      ],
      "execution_count": 7,
      "outputs": []
    },
    {
      "cell_type": "code",
      "metadata": {
        "id": "QEouANAJDQJC"
      },
      "source": [
        "full_noise_X_train = np.zeros_like(full_X_train)\n",
        "\n",
        "for idx, img in enumerate(full_X_train):\n",
        "    full_noise_X_train[idx] = util.random_noise(\n",
        "        img, mode=\"gaussian\", seed=1234\n",
        "    )"
      ],
      "execution_count": 8,
      "outputs": []
    },
    {
      "cell_type": "code",
      "metadata": {
        "colab": {
          "base_uri": "https://localhost:8080/",
          "height": 357
        },
        "id": "44xfaj2PE_57",
        "outputId": "bc6ccec0-de97-414e-a2c5-0109283be766"
      },
      "source": [
        "gen.visualize_subplot(\n",
        "    full_noise_X_train[random_sample],\n",
        "    [\"\"] * len(random_sample), \n",
        "    (3, 3), (6, 6)\n",
        ")"
      ],
      "execution_count": 9,
      "outputs": [
        {
          "output_type": "display_data",
          "data": {
            "image/png": "[encoded data removed]",
            "text/plain": [
              "<Figure size 432x432 with 9 Axes>"
            ]
          },
          "metadata": {
            "needs_background": "light"
          }
        }
      ]
    },
    {
      "cell_type": "code",
      "metadata": {
        "id": "8bYpZZnXLa2u"
      },
      "source": [
        "noise_X_train, noise_X_val, X_train, X_val = train_test_split(\n",
        "    full_noise_X_train, full_X_train, test_size=0.2, random_state=1234\n",
        ")"
      ],
      "execution_count": 10,
      "outputs": []
    },
    {
      "cell_type": "code",
      "metadata": {
        "id": "MJE2Y7h-F-m6"
      },
      "source": [
        "noise_X_test = np.zeros_like(X_test)\n",
        "\n",
        "for idx, img in enumerate(X_test):\n",
        "    noise_X_test[idx] = util.random_noise(\n",
        "        img, mode=\"gaussian\", seed=1234\n",
        "    )"
      ],
      "execution_count": 11,
      "outputs": []
    },
    {
      "cell_type": "code",
      "metadata": {
        "id": "6WWNV6AGHxk3"
      },
      "source": [
        "np.random.seed(0)\n",
        "random_sample = np.random.choice(len(X_test), size=9)"
      ],
      "execution_count": 12,
      "outputs": []
    },
    {
      "cell_type": "code",
      "metadata": {
        "colab": {
          "base_uri": "https://localhost:8080/",
          "height": 357
        },
        "id": "R8j7QqobHgqm",
        "outputId": "b36bf23f-50a2-4cc9-9b93-6dc387964885"
      },
      "source": [
        "gen.visualize_subplot(\n",
        "    noise_X_test[random_sample],\n",
        "    [\"\"] * len(random_sample), \n",
        "    (3, 3), (6, 6)\n",
        ")"
      ],
      "execution_count": 13,
      "outputs": [
        {
          "output_type": "display_data",
          "data": {
            "image/png": "[encoded data removed]",
            "text/plain": [
              "<Figure size 432x432 with 9 Axes>"
            ]
          },
          "metadata": {
            "needs_background": "light"
          }
        }
      ]
    },
    {
      "cell_type": "markdown",
      "metadata": {
        "id": "93N1btKDqrNh"
      },
      "source": [
        "## **Modelado**\n",
        "- Aquí haremos uso del Autoencoder como arquitectura de limpieza de imágenes."
      ]
    },
    {
      "cell_type": "code",
      "metadata": {
        "id": "DLBC2XkvH0Uw"
      },
      "source": [
        "model = keras.Sequential([\n",
        "    keras.layers.Flatten(),\n",
        "    keras.layers.Dense(64, activation=\"selu\"),\n",
        "    keras.layers.Dense(32, activation=\"selu\"),\n",
        "    keras.layers.Dense(16, activation=\"selu\"),\n",
        "    keras.layers.Dense(32, activation=\"selu\"),\n",
        "    keras.layers.Dense(64, activation=\"selu\"),\n",
        "    keras.layers.Dense(np.multiply(*full_X_train.shape[1:])),\n",
        "    keras.layers.Reshape(full_X_train.shape[1:])\n",
        "])"
      ],
      "execution_count": 18,
      "outputs": []
    },
    {
      "cell_type": "code",
      "metadata": {
        "id": "ZA6TW0zhIUcV"
      },
      "source": [
        "model_kwargs = {\n",
        "    \"loss\": keras.losses.MeanSquaredError(),\n",
        "    \"optimizer\": \"adam\"\n",
        "}"
      ],
      "execution_count": 19,
      "outputs": []
    },
    {
      "cell_type": "code",
      "metadata": {
        "id": "5a5hIiWxIbE-"
      },
      "source": [
        "model.compile(**model_kwargs)"
      ],
      "execution_count": 20,
      "outputs": []
    },
    {
      "cell_type": "code",
      "metadata": {
        "colab": {
          "base_uri": "https://localhost:8080/"
        },
        "id": "wnRsb0kUIr44",
        "outputId": "2c349630-400f-4265-afbd-d50800ef9d55"
      },
      "source": [
        "train_args = (noise_X_train, X_train)\n",
        "\n",
        "train_kwargs = {\n",
        "    \"batch_size\": 64,\n",
        "    \"validation_data\": (noise_X_val, X_val),\n",
        "    \"epochs\": 20\n",
        "}\n",
        "\n",
        "history = model.fit(*train_args, **train_kwargs)"
      ],
      "execution_count": 21,
      "outputs": [
        {
          "output_type": "stream",
          "name": "stdout",
          "text": [
            "Epoch 1/20\n",
            "750/750 [==============================] - 4s 4ms/step - loss: 0.0350 - val_loss: 0.0242\n",
            "Epoch 2/20\n",
            "750/750 [==============================] - 3s 4ms/step - loss: 0.0226 - val_loss: 0.0216\n",
            "Epoch 3/20\n",
            "750/750 [==============================] - 3s 4ms/step - loss: 0.0208 - val_loss: 0.0202\n",
            "Epoch 4/20\n",
            "750/750 [==============================] - 3s 4ms/step - loss: 0.0197 - val_loss: 0.0193\n",
            "Epoch 5/20\n",
            "750/750 [==============================] - 3s 4ms/step - loss: 0.0189 - val_loss: 0.0186\n",
            "Epoch 6/20\n",
            "750/750 [==============================] - 3s 4ms/step - loss: 0.0183 - val_loss: 0.0180\n",
            "Epoch 7/20\n",
            "750/750 [==============================] - 3s 4ms/step - loss: 0.0178 - val_loss: 0.0176\n",
            "Epoch 8/20\n",
            "750/750 [==============================] - 3s 4ms/step - loss: 0.0174 - val_loss: 0.0173\n",
            "Epoch 9/20\n",
            "750/750 [==============================] - 3s 4ms/step - loss: 0.0172 - val_loss: 0.0171\n",
            "Epoch 10/20\n",
            "750/750 [==============================] - 3s 4ms/step - loss: 0.0170 - val_loss: 0.0169\n",
            "Epoch 11/20\n",
            "750/750 [==============================] - 3s 4ms/step - loss: 0.0168 - val_loss: 0.0168\n",
            "Epoch 12/20\n",
            "750/750 [==============================] - 3s 4ms/step - loss: 0.0166 - val_loss: 0.0166\n",
            "Epoch 13/20\n",
            "750/750 [==============================] - 3s 4ms/step - loss: 0.0165 - val_loss: 0.0166\n",
            "Epoch 14/20\n",
            "750/750 [==============================] - 3s 4ms/step - loss: 0.0164 - val_loss: 0.0164\n",
            "Epoch 15/20\n",
            "750/750 [==============================] - 3s 4ms/step - loss: 0.0163 - val_loss: 0.0162\n",
            "Epoch 16/20\n",
            "750/750 [==============================] - 3s 4ms/step - loss: 0.0162 - val_loss: 0.0162\n",
            "Epoch 17/20\n",
            "750/750 [==============================] - 3s 4ms/step - loss: 0.0161 - val_loss: 0.0161\n",
            "Epoch 18/20\n",
            "750/750 [==============================] - 3s 4ms/step - loss: 0.0160 - val_loss: 0.0160\n",
            "Epoch 19/20\n",
            "750/750 [==============================] - 3s 4ms/step - loss: 0.0160 - val_loss: 0.0160\n",
            "Epoch 20/20\n",
            "750/750 [==============================] - 3s 4ms/step - loss: 0.0159 - val_loss: 0.0160\n"
          ]
        }
      ]
    },
    {
      "cell_type": "code",
      "metadata": {
        "id": "IrZHDJ8EsM8J"
      },
      "source": [
        "history = pd.DataFrame(history.history)"
      ],
      "execution_count": 22,
      "outputs": []
    },
    {
      "cell_type": "code",
      "metadata": {
        "colab": {
          "base_uri": "https://localhost:8080/",
          "height": 404
        },
        "id": "WkzKEj0nsPEy",
        "outputId": "7d94d42c-e529-4ae7-cbab-3a34ee4ae8d8"
      },
      "source": [
        "plt.figure(figsize=(12, 6))\n",
        "\n",
        "plt.plot(history[\"loss\"], \"s\", label=\"Train Loss\", linestyle=\"dotted\")\n",
        "plt.plot(history[\"val_loss\"], \"o\", label=\"Val Loss\", linestyle=\"dashed\")\n",
        "plt.title(\"Curvas de Aprendizaje\")\n",
        "plt.xlabel(\"Epochs\")\n",
        "plt.legend(loc=\"best\")\n",
        "plt.grid(linestyle=\"--\")\n",
        "plt.show()"
      ],
      "execution_count": 23,
      "outputs": [
        {
          "output_type": "display_data",
          "data": {
            "image/png": "[encoded data removed]",
            "text/plain": [
              "<Figure size 864x432 with 1 Axes>"
            ]
          },
          "metadata": {
            "needs_background": "light"
          }
        }
      ]
    },
    {
      "cell_type": "markdown",
      "metadata": {
        "id": "Vb6HqJJlscIC"
      },
      "source": [
        "## **Validación**"
      ]
    },
    {
      "cell_type": "code",
      "metadata": {
        "id": "B-fmST7tJU48"
      },
      "source": [
        "denoised_X_test = model.predict(noise_X_test)"
      ],
      "execution_count": 24,
      "outputs": []
    },
    {
      "cell_type": "code",
      "metadata": {
        "colab": {
          "base_uri": "https://localhost:8080/"
        },
        "id": "xyCcfLVQNYnx",
        "outputId": "607d2424-2a82-4a1c-e198-84a5a44f2bcd"
      },
      "source": [
        "mean_absolute_error(denoised_X_test.flatten(), X_test.flatten())"
      ],
      "execution_count": 25,
      "outputs": [
        {
          "output_type": "execute_result",
          "data": {
            "text/plain": [
              "0.08012294146928035"
            ]
          },
          "metadata": {},
          "execution_count": 25
        }
      ]
    },
    {
      "cell_type": "code",
      "metadata": {
        "colab": {
          "base_uri": "https://localhost:8080/"
        },
        "id": "pQYo8t1NNi63",
        "outputId": "07216ad9-8781-4c3b-f15b-126b6fc657c0"
      },
      "source": [
        "mean_squared_error(denoised_X_test.flatten(), X_test.flatten())"
      ],
      "execution_count": 26,
      "outputs": [
        {
          "output_type": "execute_result",
          "data": {
            "text/plain": [
              "0.015974953414534785"
            ]
          },
          "metadata": {},
          "execution_count": 26
        }
      ]
    },
    {
      "cell_type": "code",
      "metadata": {
        "colab": {
          "base_uri": "https://localhost:8080/"
        },
        "id": "e3djlToyNm5K",
        "outputId": "8dbc4c8a-022d-4e5a-9556-5de335d47947"
      },
      "source": [
        "r2_score(denoised_X_test.flatten(), X_test.flatten())"
      ],
      "execution_count": 27,
      "outputs": [
        {
          "output_type": "execute_result",
          "data": {
            "text/plain": [
              "0.8512104767038731"
            ]
          },
          "metadata": {},
          "execution_count": 27
        }
      ]
    },
    {
      "cell_type": "code",
      "metadata": {
        "id": "VmO77oDMJirD"
      },
      "source": [
        "np.random.seed(0)\n",
        "random_sample = np.random.choice(len(X_test), size=9)"
      ],
      "execution_count": 28,
      "outputs": []
    },
    {
      "cell_type": "code",
      "metadata": {
        "colab": {
          "base_uri": "https://localhost:8080/",
          "height": 357
        },
        "id": "X3ReeJEYJnkZ",
        "outputId": "44c93d47-7afb-48b5-f212-b2ae537764a3"
      },
      "source": [
        "gen.visualize_subplot(\n",
        "    noise_X_test[random_sample],\n",
        "    [\"\"] * len(random_sample), \n",
        "    (3, 3), (6, 6)\n",
        ")"
      ],
      "execution_count": 30,
      "outputs": [
        {
          "output_type": "display_data",
          "data": {
            "image/png": "[encoded data removed]",
            "text/plain": [
              "<Figure size 432x432 with 9 Axes>"
            ]
          },
          "metadata": {
            "needs_background": "light"
          }
        }
      ]
    },
    {
      "cell_type": "code",
      "metadata": {
        "colab": {
          "base_uri": "https://localhost:8080/",
          "height": 357
        },
        "id": "NxSd22--JpOI",
        "outputId": "5d1a003a-af82-4f3a-b357-1e89d96b7f68"
      },
      "source": [
        "gen.visualize_subplot(\n",
        "    denoised_X_test[random_sample],\n",
        "    [\"\"] * len(random_sample), \n",
        "    (3, 3), (6, 6)\n",
        ")"
      ],
      "execution_count": 31,
      "outputs": [
        {
          "output_type": "display_data",
          "data": {
            "image/png": "[encoded data removed]",
            "text/plain": [
              "<Figure size 432x432 with 9 Axes>"
            ]
          },
          "metadata": {
            "needs_background": "light"
          }
        }
      ]
    },
    {
      "cell_type": "code",
      "metadata": {
        "id": "I5cv0vw9OuIs"
      },
      "source": [
        ""
      ],
      "execution_count": null,
      "outputs": []
    }
  ]
}