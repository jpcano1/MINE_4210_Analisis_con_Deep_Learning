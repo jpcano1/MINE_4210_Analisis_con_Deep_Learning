{
  "nbformat": 4,
  "nbformat_minor": 0,
  "metadata": {
    "colab": {
      "name": "lab_4.ipynb",
      "provenance": [],
      "collapsed_sections": []
    },
    "kernelspec": {
      "display_name": "Python 3",
      "name": "python3"
    }
  },
  "cells": [
    {
      "cell_type": "markdown",
      "metadata": {
        "id": "Q7ffxRZZbhIP"
      },
      "source": [
        "![image](https://docs.google.com/uc?export=download&id=1NUy1Q-abpoV9XYK9qT9t8Mdhj3ZVlveO)\n",
        "\n",
        "<table align=\"center\">\n",
        "  <td>\n",
        "    <a href=\"https://colab.research.google.com/github/jpcano1/MINE_4210_Analisis_con_Deep_Learning/blob/master/lab_4/lab_4.ipynb\" target=\"_blank\"><img src=\"https://colab.research.google.com/assets/colab-badge.svg\" alt=\"Open In Colab\"/>\n",
        "  </td>\n",
        "</table>\n",
        "\n",
        "## **Laboratorio 4**\n",
        "\n",
        "Uno de los problemas más comunes en las predicciones de las series de tiempo se encuentra aplicada en el Pronóstico del Clima. Para ello, la PES University ha recaudado información de 4 parámetros (Temperatura, Humedad, Velocidad del Viento y Presión) durante el Enero, 1 del 2013 hasta Abril, 24 de 2017 para la ciudad de Bengaluru, India.\n",
        "\n",
        "Con esta información, le han pedido que realice la construcción de un predictor de la Temperatura para los próximos días basado en el comportamiento histórico del mismo. Pueden utilizar como información adicional los otros atributos medidos si ven que les puede aportar información al predictor. Como bono, le pdiden también predecir las otras 3 variables y realizar un análisis multivariado. Recuerde que para medir el rendimiento del modelo, se han separado dos ventanas temporales para entrenamiento y evaluación. \n",
        "\n",
        "> [Fuente de Datos](https://www.kaggle.com/sumanthvrao/daily-climate-time-series-data)"
      ]
    },
    {
      "cell_type": "code",
      "metadata": {
        "id": "qM1VU1FiEfJt"
      },
      "source": [
        ""
      ],
      "execution_count": null,
      "outputs": []
    }
  ]
}