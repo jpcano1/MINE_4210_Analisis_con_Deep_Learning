{
  "nbformat": 4,
  "nbformat_minor": 0,
  "metadata": {
    "colab": {
      "name": "Laboratorio - Taller.ipynb",
      "provenance": [],
      "collapsed_sections": []
    },
    "kernelspec": {
      "display_name": "Python 3",
      "name": "python3"
    }
  },
  "cells": [
    {
      "cell_type": "markdown",
      "metadata": {
        "id": "Q7ffxRZZbhIP"
      },
      "source": [
        "\n",
        "<img src=\"https://bloqueneon.uniandes.edu.co/content/enforced/52233-202120_ISIS4219_01/Laboratorios.png?_&d2lSessionVal=guLBE9l4cI9Tip6PM5JSzKgp6&_&d2lSessionVal=iDtWjzbHb92iC3sVmHUqajJ2k&_&d2lSessionVal=g2xptlvZ5GrV3W5yGlhIgeBnN\" ><br>\n",
        "# Machine Learning Techniques - ISIS4219\n",
        "\n",
        "Segundo Semestre - 2021\n",
        "\n",
        "\n"
      ]
    },
    {
      "cell_type": "markdown",
      "metadata": {
        "id": "j79las3xZgA1"
      },
      "source": [
        "## Integrantes\n",
        "\n",
        "*   Integrante 1.\n",
        "*   Integrante 2.\n",
        "*   Integrante 3.\n",
        "\n"
      ]
    },
    {
      "cell_type": "markdown",
      "metadata": {
        "id": "lAZL78yfcqCn"
      },
      "source": [
        "## **Problema**\n",
        "\n",
        "Uno de los problemas más comunes en las predicciones de las series de tiempo se encuentra aplicada en el Pronóstico del Clima. Para ello, la PES University ha recaudado información de 4 parámetros (Temperatura, Humedad, Velocidad del Viento y Presión) durante el Enero, 1 del 2013 hasta Abril, 24 de 2017 para la ciudad de Bengaluru, India.\n",
        "\n",
        "Con esta información, le han pedido que realice la construcción de un predictor de la Temperatura para los próximos días basado en el comportamiento histórico del mismo. Pueden utilizar como información adicional los otros atributos medidos si ven que les puede aportar información al predictor. Como bono, le pdiden también predecir las otras 3 variables y realizar un análisis multivariado. Recuerde que para medir el rendimiento del modelo, se han separado dos ventanas temporales para entrenamiento y evaluación. \n",
        "\n",
        "**Fuente de Datos**: https://www.kaggle.com/sumanthvrao/daily-climate-time-series-data\n"
      ]
    },
    {
      "cell_type": "code",
      "metadata": {
        "id": "qM1VU1FiEfJt"
      },
      "source": [
        ""
      ],
      "execution_count": null,
      "outputs": []
    }
  ]
}