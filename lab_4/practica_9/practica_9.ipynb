{
  "nbformat": 4,
  "nbformat_minor": 0,
  "metadata": {
    "colab": {
      "name": "practica_9.ipynb",
      "provenance": [],
      "collapsed_sections": []
    },
    "kernelspec": {
      "name": "python3",
      "display_name": "Python 3"
    },
    "language_info": {
      "name": "python"
    },
    "widgets": {
      "application/vnd.jupyter.widget-state+json": {
        "0311c5badefa4047ae100f8f27b10181": {
          "model_module": "@jupyter-widgets/controls",
          "model_name": "HBoxModel",
          "model_module_version": "1.5.0",
          "state": {
            "_view_name": "HBoxView",
            "_dom_classes": [],
            "_model_name": "HBoxModel",
            "_view_module": "@jupyter-widgets/controls",
            "_model_module_version": "1.5.0",
            "_view_count": null,
            "_view_module_version": "1.5.0",
            "box_style": "",
            "layout": "IPY_MODEL_743afac9b6314bb2ad4dbd526113b43a",
            "_model_module": "@jupyter-widgets/controls",
            "children": [
              "IPY_MODEL_4a030bad05c44345a57fa96467c282d6",
              "IPY_MODEL_1cb69d7c142646c989a212b14db9db62",
              "IPY_MODEL_2281d66f2ff34cce876fecc019cadb08"
            ]
          }
        },
        "743afac9b6314bb2ad4dbd526113b43a": {
          "model_module": "@jupyter-widgets/base",
          "model_name": "LayoutModel",
          "model_module_version": "1.2.0",
          "state": {
            "_view_name": "LayoutView",
            "grid_template_rows": null,
            "right": null,
            "justify_content": null,
            "_view_module": "@jupyter-widgets/base",
            "overflow": null,
            "_model_module_version": "1.2.0",
            "_view_count": null,
            "flex_flow": null,
            "width": null,
            "min_width": null,
            "border": null,
            "align_items": null,
            "bottom": null,
            "_model_module": "@jupyter-widgets/base",
            "top": null,
            "grid_column": null,
            "overflow_y": null,
            "overflow_x": null,
            "grid_auto_flow": null,
            "grid_area": null,
            "grid_template_columns": null,
            "flex": null,
            "_model_name": "LayoutModel",
            "justify_items": null,
            "grid_row": null,
            "max_height": null,
            "align_content": null,
            "visibility": null,
            "align_self": null,
            "height": null,
            "min_height": null,
            "padding": null,
            "grid_auto_rows": null,
            "grid_gap": null,
            "max_width": null,
            "order": null,
            "_view_module_version": "1.2.0",
            "grid_template_areas": null,
            "object_position": null,
            "object_fit": null,
            "grid_auto_columns": null,
            "margin": null,
            "display": null,
            "left": null
          }
        },
        "4a030bad05c44345a57fa96467c282d6": {
          "model_module": "@jupyter-widgets/controls",
          "model_name": "HTMLModel",
          "model_module_version": "1.5.0",
          "state": {
            "_view_name": "HTMLView",
            "style": "IPY_MODEL_4f671eead70f4bb0823ba08fe327f4ec",
            "_dom_classes": [],
            "description": "",
            "_model_name": "HTMLModel",
            "placeholder": "​",
            "_view_module": "@jupyter-widgets/controls",
            "_model_module_version": "1.5.0",
            "value": "100%",
            "_view_count": null,
            "_view_module_version": "1.5.0",
            "description_tooltip": null,
            "_model_module": "@jupyter-widgets/controls",
            "layout": "IPY_MODEL_ee7957d3a97948eb9de053783ad22967"
          }
        },
        "1cb69d7c142646c989a212b14db9db62": {
          "model_module": "@jupyter-widgets/controls",
          "model_name": "FloatProgressModel",
          "model_module_version": "1.5.0",
          "state": {
            "_view_name": "ProgressView",
            "style": "IPY_MODEL_5c350d6a88534a2ba96688608820a2d3",
            "_dom_classes": [],
            "description": "",
            "_model_name": "FloatProgressModel",
            "bar_style": "success",
            "max": 3,
            "_view_module": "@jupyter-widgets/controls",
            "_model_module_version": "1.5.0",
            "value": 3,
            "_view_count": null,
            "_view_module_version": "1.5.0",
            "orientation": "horizontal",
            "min": 0,
            "description_tooltip": null,
            "_model_module": "@jupyter-widgets/controls",
            "layout": "IPY_MODEL_de54889fd64441d6afbb6a2ff1fc51e5"
          }
        },
        "2281d66f2ff34cce876fecc019cadb08": {
          "model_module": "@jupyter-widgets/controls",
          "model_name": "HTMLModel",
          "model_module_version": "1.5.0",
          "state": {
            "_view_name": "HTMLView",
            "style": "IPY_MODEL_2facfc4a75b44cc2912a39d6a113e6b4",
            "_dom_classes": [],
            "description": "",
            "_model_name": "HTMLModel",
            "placeholder": "​",
            "_view_module": "@jupyter-widgets/controls",
            "_model_module_version": "1.5.0",
            "value": " 3/3 [00:00&lt;00:00, 48.36KB/s]",
            "_view_count": null,
            "_view_module_version": "1.5.0",
            "description_tooltip": null,
            "_model_module": "@jupyter-widgets/controls",
            "layout": "IPY_MODEL_bf2d50e8d8e24233839260dd86e36fc9"
          }
        },
        "4f671eead70f4bb0823ba08fe327f4ec": {
          "model_module": "@jupyter-widgets/controls",
          "model_name": "DescriptionStyleModel",
          "model_module_version": "1.5.0",
          "state": {
            "_view_name": "StyleView",
            "_model_name": "DescriptionStyleModel",
            "description_width": "",
            "_view_module": "@jupyter-widgets/base",
            "_model_module_version": "1.5.0",
            "_view_count": null,
            "_view_module_version": "1.2.0",
            "_model_module": "@jupyter-widgets/controls"
          }
        },
        "ee7957d3a97948eb9de053783ad22967": {
          "model_module": "@jupyter-widgets/base",
          "model_name": "LayoutModel",
          "model_module_version": "1.2.0",
          "state": {
            "_view_name": "LayoutView",
            "grid_template_rows": null,
            "right": null,
            "justify_content": null,
            "_view_module": "@jupyter-widgets/base",
            "overflow": null,
            "_model_module_version": "1.2.0",
            "_view_count": null,
            "flex_flow": null,
            "width": null,
            "min_width": null,
            "border": null,
            "align_items": null,
            "bottom": null,
            "_model_module": "@jupyter-widgets/base",
            "top": null,
            "grid_column": null,
            "overflow_y": null,
            "overflow_x": null,
            "grid_auto_flow": null,
            "grid_area": null,
            "grid_template_columns": null,
            "flex": null,
            "_model_name": "LayoutModel",
            "justify_items": null,
            "grid_row": null,
            "max_height": null,
            "align_content": null,
            "visibility": null,
            "align_self": null,
            "height": null,
            "min_height": null,
            "padding": null,
            "grid_auto_rows": null,
            "grid_gap": null,
            "max_width": null,
            "order": null,
            "_view_module_version": "1.2.0",
            "grid_template_areas": null,
            "object_position": null,
            "object_fit": null,
            "grid_auto_columns": null,
            "margin": null,
            "display": null,
            "left": null
          }
        },
        "5c350d6a88534a2ba96688608820a2d3": {
          "model_module": "@jupyter-widgets/controls",
          "model_name": "ProgressStyleModel",
          "model_module_version": "1.5.0",
          "state": {
            "_view_name": "StyleView",
            "_model_name": "ProgressStyleModel",
            "description_width": "",
            "_view_module": "@jupyter-widgets/base",
            "_model_module_version": "1.5.0",
            "_view_count": null,
            "_view_module_version": "1.2.0",
            "bar_color": null,
            "_model_module": "@jupyter-widgets/controls"
          }
        },
        "de54889fd64441d6afbb6a2ff1fc51e5": {
          "model_module": "@jupyter-widgets/base",
          "model_name": "LayoutModel",
          "model_module_version": "1.2.0",
          "state": {
            "_view_name": "LayoutView",
            "grid_template_rows": null,
            "right": null,
            "justify_content": null,
            "_view_module": "@jupyter-widgets/base",
            "overflow": null,
            "_model_module_version": "1.2.0",
            "_view_count": null,
            "flex_flow": null,
            "width": null,
            "min_width": null,
            "border": null,
            "align_items": null,
            "bottom": null,
            "_model_module": "@jupyter-widgets/base",
            "top": null,
            "grid_column": null,
            "overflow_y": null,
            "overflow_x": null,
            "grid_auto_flow": null,
            "grid_area": null,
            "grid_template_columns": null,
            "flex": null,
            "_model_name": "LayoutModel",
            "justify_items": null,
            "grid_row": null,
            "max_height": null,
            "align_content": null,
            "visibility": null,
            "align_self": null,
            "height": null,
            "min_height": null,
            "padding": null,
            "grid_auto_rows": null,
            "grid_gap": null,
            "max_width": null,
            "order": null,
            "_view_module_version": "1.2.0",
            "grid_template_areas": null,
            "object_position": null,
            "object_fit": null,
            "grid_auto_columns": null,
            "margin": null,
            "display": null,
            "left": null
          }
        },
        "2facfc4a75b44cc2912a39d6a113e6b4": {
          "model_module": "@jupyter-widgets/controls",
          "model_name": "DescriptionStyleModel",
          "model_module_version": "1.5.0",
          "state": {
            "_view_name": "StyleView",
            "_model_name": "DescriptionStyleModel",
            "description_width": "",
            "_view_module": "@jupyter-widgets/base",
            "_model_module_version": "1.5.0",
            "_view_count": null,
            "_view_module_version": "1.2.0",
            "_model_module": "@jupyter-widgets/controls"
          }
        },
        "bf2d50e8d8e24233839260dd86e36fc9": {
          "model_module": "@jupyter-widgets/base",
          "model_name": "LayoutModel",
          "model_module_version": "1.2.0",
          "state": {
            "_view_name": "LayoutView",
            "grid_template_rows": null,
            "right": null,
            "justify_content": null,
            "_view_module": "@jupyter-widgets/base",
            "overflow": null,
            "_model_module_version": "1.2.0",
            "_view_count": null,
            "flex_flow": null,
            "width": null,
            "min_width": null,
            "border": null,
            "align_items": null,
            "bottom": null,
            "_model_module": "@jupyter-widgets/base",
            "top": null,
            "grid_column": null,
            "overflow_y": null,
            "overflow_x": null,
            "grid_auto_flow": null,
            "grid_area": null,
            "grid_template_columns": null,
            "flex": null,
            "_model_name": "LayoutModel",
            "justify_items": null,
            "grid_row": null,
            "max_height": null,
            "align_content": null,
            "visibility": null,
            "align_self": null,
            "height": null,
            "min_height": null,
            "padding": null,
            "grid_auto_rows": null,
            "grid_gap": null,
            "max_width": null,
            "order": null,
            "_view_module_version": "1.2.0",
            "grid_template_areas": null,
            "object_position": null,
            "object_fit": null,
            "grid_auto_columns": null,
            "margin": null,
            "display": null,
            "left": null
          }
        }
      }
    }
  },
  "cells": [
    {
      "cell_type": "markdown",
      "metadata": {
        "id": "M6Xo8AmBLIYD"
      },
      "source": [
        "![image](https://docs.google.com/uc?export=download&id=1NUy1Q-abpoV9XYK9qT9t8Mdhj3ZVlveO)\n",
        "\n",
        "<table align=\"center\">\n",
        "  <td>\n",
        "    <a href=\"https://colab.research.google.com/github/jpcano1/MINE_4210_Analisis_con_Deep_Learning/blob/master/lab_4/practica_9/practica_9.ipynb\" target=\"_blank\"><img src=\"https://colab.research.google.com/assets/colab-badge.svg\" alt=\"Open In Colab\"/>\n",
        "  </td>\n",
        "</table>\n",
        "\n",
        "## **Práctica 9**\n",
        "\n",
        "## **Análisis de Sentimientos**\n",
        "\n",
        "## **Objetivos**\n",
        "- Introducción al procesamiento de textos y al análisis de sentimientos\n",
        "- Introducción a la capa de Embedding.\n",
        "\n",
        "## **Problema**\n",
        "- En la base de datos de película IMDB, se tiene un conjunto de reseñas de muchos filmes. Se requiere hacer clasificación de cada reseña para determinar si esta califica de forma positiva o negativa a la película en cuestión."
      ]
    },
    {
      "cell_type": "code",
      "metadata": {
        "colab": {
          "base_uri": "https://localhost:8080/",
          "height": 83,
          "referenced_widgets": [
            "0311c5badefa4047ae100f8f27b10181",
            "743afac9b6314bb2ad4dbd526113b43a",
            "4a030bad05c44345a57fa96467c282d6",
            "1cb69d7c142646c989a212b14db9db62",
            "2281d66f2ff34cce876fecc019cadb08",
            "4f671eead70f4bb0823ba08fe327f4ec",
            "ee7957d3a97948eb9de053783ad22967",
            "5c350d6a88534a2ba96688608820a2d3",
            "de54889fd64441d6afbb6a2ff1fc51e5",
            "2facfc4a75b44cc2912a39d6a113e6b4",
            "bf2d50e8d8e24233839260dd86e36fc9"
          ]
        },
        "id": "XOCRvQ2MhUlv",
        "outputId": "2cf46d13-b762-4dc6-d737-9dae7c3a77f6"
      },
      "source": [
        "!shred -u setup_colab_general.py\n",
        "!wget -q \"https://github.com/jpcano1/python_utils/raw/main/setup_colab_general.py\" -O setup_colab_general.py\n",
        "import setup_colab_general as setup_general\n",
        "setup_general.setup_general()"
      ],
      "execution_count": 1,
      "outputs": [
        {
          "output_type": "stream",
          "name": "stdout",
          "text": [
            "shred: setup_colab_general.py: failed to open for writing: No such file or directory\n"
          ]
        },
        {
          "output_type": "display_data",
          "data": {
            "application/vnd.jupyter.widget-view+json": {
              "model_id": "0311c5badefa4047ae100f8f27b10181",
              "version_minor": 0,
              "version_major": 2
            },
            "text/plain": [
              "  0%|          | 0/3 [00:00<?, ?KB/s]"
            ]
          },
          "metadata": {}
        },
        {
          "output_type": "stream",
          "name": "stdout",
          "text": [
            "General Functions Enabled Successfully\n"
          ]
        }
      ]
    },
    {
      "cell_type": "markdown",
      "metadata": {
        "id": "eldHkva_PB-i"
      },
      "source": [
        "## **Importando las librerías necesarias para el laboratorio**"
      ]
    },
    {
      "cell_type": "code",
      "metadata": {
        "id": "UNnvpqZVlT07"
      },
      "source": [
        "import numpy as np\n",
        "import pandas as pd\n",
        "\n",
        "import matplotlib.pyplot as plt\n",
        "plt.style.use(\"seaborn-deep\")\n",
        "\n",
        "import io\n",
        "import os\n",
        "\n",
        "import re\n",
        "import shutil\n",
        "import string\n",
        "import tensorflow as tf\n",
        "from tensorflow import keras\n",
        "\n",
        "from utils import general as gen\n",
        "\n",
        "from typing import Optional"
      ],
      "execution_count": 21,
      "outputs": []
    },
    {
      "cell_type": "code",
      "metadata": {
        "id": "Qmuu7gsFlfyl"
      },
      "source": [
        "data_url = \"https://ai.stanford.edu/~amaas/data/sentiment/aclImdb_v1.tar.gz\""
      ],
      "execution_count": 3,
      "outputs": []
    },
    {
      "cell_type": "code",
      "metadata": {
        "colab": {
          "base_uri": "https://localhost:8080/"
        },
        "id": "on4-EhVyhglH",
        "outputId": "a0cd41ce-1bd4-4b77-c8af-5d7f8706debf"
      },
      "source": [
        "%%shell\n",
        "wget -q \"https://ai.stanford.edu/~amaas/data/sentiment/aclImdb_v1.tar.gz\" -O data.tar.gz\n",
        "tar -xzf data.tar.gz\n",
        "rm data.tar.gz"
      ],
      "execution_count": 10,
      "outputs": [
        {
          "output_type": "execute_result",
          "data": {
            "text/plain": [
              ""
            ]
          },
          "metadata": {},
          "execution_count": 10
        }
      ]
    },
    {
      "cell_type": "code",
      "metadata": {
        "id": "WczwylWhhlD7"
      },
      "source": [
        "dataset_dir = gen.create_and_verify(\"aclImdb\")"
      ],
      "execution_count": 11,
      "outputs": []
    },
    {
      "cell_type": "code",
      "metadata": {
        "id": "0ZMYECoPjPb2"
      },
      "source": [
        "train_dir = gen.create_and_verify(dataset_dir, \"train\")\n",
        "test_dir = gen.create_and_verify(dataset_dir, \"test\")"
      ],
      "execution_count": 31,
      "outputs": []
    },
    {
      "cell_type": "code",
      "metadata": {
        "id": "6MJ48B--juqL"
      },
      "source": [
        "remove_dir = gen.create_and_verify(train_dir, \"unsup\")\n",
        "shutil.rmtree(remove_dir)"
      ],
      "execution_count": null,
      "outputs": []
    },
    {
      "cell_type": "markdown",
      "metadata": {
        "id": "TvD-7SzCPR_8"
      },
      "source": [
        "## **Análisis y Procesamiento**\n",
        "- A primera vista nos encontramos con un dataset de texto para clasificación binaria, siendo el número 1 una reseña positiva y el número 0 una negativa."
      ]
    },
    {
      "cell_type": "code",
      "metadata": {
        "colab": {
          "base_uri": "https://localhost:8080/"
        },
        "id": "_pNimsu4jyQR",
        "outputId": "bfe89475-3efa-4def-8ffa-2454fce4ce2d"
      },
      "source": [
        "batch_size = 512\n",
        "\n",
        "train_ds = keras.preprocessing.text_dataset_from_directory(\n",
        "    train_dir, validation_split=0.2,\n",
        "    subset=\"training\", seed=1234, batch_size=batch_size,\n",
        ")\n",
        "\n",
        "val_ds = keras.preprocessing.text_dataset_from_directory(\n",
        "    train_dir, validation_split=0.2,\n",
        "    subset=\"validation\", seed=1234, batch_size=batch_size,\n",
        ")\n",
        "\n",
        "test_ds = keras.preprocessing.text_dataset_from_directory(\n",
        "    test_dir, batch_size=batch_size,\n",
        ")"
      ],
      "execution_count": 40,
      "outputs": [
        {
          "output_type": "stream",
          "name": "stdout",
          "text": [
            "Found 25000 files belonging to 2 classes.\n",
            "Using 20000 files for training.\n",
            "Found 25000 files belonging to 2 classes.\n",
            "Using 5000 files for validation.\n",
            "Found 25000 files belonging to 2 classes.\n"
          ]
        }
      ]
    },
    {
      "cell_type": "code",
      "metadata": {
        "colab": {
          "base_uri": "https://localhost:8080/"
        },
        "id": "fcfocmAekzGt",
        "outputId": "23c204b2-bf3a-41fd-8043-fbf4c2393601"
      },
      "source": [
        "for text_batch, label_batch in train_ds.take(1):\n",
        "    for i in range(5):\n",
        "        tf.print(label_batch[i].numpy(), text_batch.numpy()[i])"
      ],
      "execution_count": 41,
      "outputs": [
        {
          "output_type": "stream",
          "name": "stdout",
          "text": [
            "0 (b'This film features two of my favorite guilty pleasures. Sure, the effects ar'\n",
            " b'e laughable, the story confused, but just watching Hasselhoff in his Knight '\n",
            " b'Rider days is always fun. I especially like the old hotel they used to shoot'\n",
            " b' this in, it added to what little suspense was mustered. Give it a 3.')\n",
            "1 (b'I guess when \"Beat Street\" made a national appearance, \"Flashdance\" came at '\n",
            " b'the same time. The problem with \"Flashdance\" is that there was only one brea'\n",
            " b'k dancing scene and the rest was jazz dance and ballet. That was one of the '\n",
            " b'reasons why \"Beat Street\" was better. The only movie that could rival \"Beat '\n",
            " b'Street\" seems to be \"Footloose\", because both movies focused on how dance ha'\n",
            " b'd been used by people to express their utmost feelings.<br /><br />The break'\n",
            " b'-dance scenes in \"Beat Street\" come just before the middle and at the end of'\n",
            " b' the flick. And I loved all of them. Almost all of the break tricks were fea'\n",
            " b'tured in the break jam scenes: the jackhammer, the flares, the head spins, t'\n",
            " b'he suicide sit, the crazy legs, the mortal, the forward flip, the figure fou'\n",
            " b'r---almost everything.<br /><br />Like \"The Warriors\", \"Beat Street\" does ha'\n",
            " b've violence related to the gang life in the hip hop world...but in a much le'\n",
            " b'ss violent way than the former. The only major fight scene in \"Beat Street\" '\n",
            " b'was when graffiti artist Ramon (which in the movie was abbreviated as \"Ramo\"'\n",
            " b') is chased by a rival gang member on the New York City subway tracks.....fi'\n",
            " b'ghting each other on the third rail and both dying by electrocution on that '\n",
            " b'rail. Well, although that chase scene ended tragically, it was better that t'\n",
            " b'hey died that way than having blood exploding from a gang gunshot.<br /><br '\n",
            " b'/>Most of the gang stuff in the flick was graffiti related to the hip-hop cu'\n",
            " b'lture, and rap music. A lot of rap music appeared in the flick, because hip-'\n",
            " b'hop members used rap music as a diversion to the negative aspects of gang li'\n",
            " b'fe. Even the theme song of the movie, which closed the curtain to the flick,'\n",
            " b' was not just an homage to hip-hop culture--it also was an homage to the dea'\n",
            " b\"th of Ramon.<br /><br />By the way, during the dance scene called 'Tango, Ta\"\n",
            " b\"ngo', I guess the female drummer in the pit orchestra conducted by actress R\"\n",
            " b'ae Dawn Chong was Sheila E. making a cameo appearance.')\n",
            "0 (b'<br /><br />When I first started watching this movie last night on Cinemax, '\n",
            " b'I was shocked that it had been made. Cruel Intentions, in my opinion, was on'\n",
            " b'e of the best teen-oriented films made in years. This prequel had certain th'\n",
            " b\"ings incongruent with the original. (Sebastian's father married into wealth,\"\n",
            " b' then why does he have a rich Aunt on long island?)<br /><br />Then I found '\n",
            " b'out today that it was not really intended to be a new movie, but rather a te'\n",
            " b'levision series, Manchester Prep. After hearing that, it made sense to me th'\n",
            " b\"at it wasn't the same as the movie, just as Buffy the Vampire Slayer is diff\"\n",
            " b'erent in TV form. <br /><br />I think that Roger Kumble most likely added th'\n",
            " b\"e ending that this movie had, AFTER the series wasn't picked up by Fox. It j\"\n",
            " b'ust seems like something that would happen too fast (Sebastian becoming the '\n",
            " b\"male version of Katharyn) and I just don't know where they would go with the\"\n",
            " b\" next episode, since it wouldn't be leading to the 1999 Film (Which the newe\"\n",
            " b\"r ending is directed right towards.)<br /><br />One thing I didn't like was \"\n",
            " b'that it suggested Sebastian and his father had married into the wealth, whic'\n",
            " b\"h isn't typically looked good upon in this area of new york, and sine Kathar\"\n",
            " b\"yn's mother was just an adult version of her, it didn't seem like something \"\n",
            " b'a woman in her position would do, marry a man not of her social class. <br /'\n",
            " b'><br />As a prequel this is fairly lame. But I would have been interested to'\n",
            " b' see where this had gone as a series.')\n",
            "1 (b'this movie just goes to show that you dont need big explosions,muti-billion '\n",
            " b'dollar computer graphics,or highly over paid actors and actresses to make a '\n",
            " b'good movie, All you need is a excellent story line and plot. which the maste'\n",
            " b'r of all japanese films,Akira Kurosawa pulls off brilliantly. I recommend th'\n",
            " b'is film to all that love a epic period piece. and for those that enjoy Kuros'\n",
            " b'awas earlier works. 10/10')\n",
            "1 (b'This is amazing-looking movie with the whole thing done in just six or seven'\n",
            " b' colors. When it came out over 15 years ago, it stunned audiences with its c'\n",
            " b'olor scheme, being so different from anything else that had ever been put on'\n",
            " b' film. Those colors, for me at least, make this an absolutely fascinating fi'\n",
            " b'lm to watch. There are literally thousands of scenes I wish could freeze and'\n",
            " b' somehow convert them to a painting to study for their artwork.<br /><br />T'\n",
            " b\"he characters and the story don't match up to the greatness of the photograp\"\n",
            " b'hy, but they are all over-the-top, especially the villains. The famous actor'\n",
            " b's who played them here must have a had a lot of fun on the set playing \"Flat'\n",
            " b'op,\" \"Pruneface,\" \"Lips,\" \"Mumbles,\" etc.<br /><br />Meanwhile, Warren Beatt'\n",
            " b'y and Gleanne Hedley are good as Dick Tracey and girlfriend Tess Truehart, a'\n",
            " b\"nd she's as sweet and soft as her name. Another good addition is Charlie Kor\"\n",
            " b'smo as the delinquent young boy Dick and Tess take under their wing. The col'\n",
            " b'orful other characters are played by Al Pacino, Dustin Hoffman, William Fory'\n",
            " b'sthe, Paul Sorvino, Mandy Patinkin, Madona and other names you know but are '\n",
            " b\"too numerous to list here. Check the full credits on the main page and you'l\"\n",
            " b\"l amazed.<br /><br />The only negatives I found were Pacino's voice which gr\"\n",
            " b\"ates on you after awhile, Madonna's off-key singing voice and the fact that \"\n",
            " b'the film would have been better trimmed about 10 minutes. Those \"faults\" are'\n",
            " b' all minor because overall, this is a fun movie....a cartoon strip coming to'\n",
            " b' life in an incredibly-colorful fashion.....like nothing you have ever seen.')\n"
          ]
        }
      ]
    },
    {
      "cell_type": "code",
      "metadata": {
        "id": "Cufk6xYllZN0"
      },
      "source": [
        "def performance(\n",
        "    dataset: Optional[tf.data.Dataset], \n",
        "    train: bool = True\n",
        ") -> Optional[tf.data.Dataset]:\n",
        "    \"\"\"\n",
        "    Function to boost dataset load performance\n",
        "    :param dataset: The dataset to be boosted\n",
        "    :param type: Optional[tf.data.Dataset]\n",
        "    :param train: Flag to indicate the nature of the dataset\n",
        "    :param type: bool\n",
        "    :return: The dataset boosted\n",
        "    :rtype: Optional[tf.data.Dataset]\n",
        "    \"\"\"\n",
        "    if train:\n",
        "        # Shuffle the dataset to a fixed buffer sample\n",
        "        dataset = dataset.shuffle(512, reshuffle_each_iteration=True)\n",
        "        # The number of batches that will be parallel processed\n",
        "        dataset = dataset.prefetch(tf.data.AUTOTUNE)\n",
        "    # Repeat the incidences in the dataset\n",
        "    dataset = dataset.repeat()\n",
        "    # Create batches from dataset\n",
        "    return dataset"
      ],
      "execution_count": 46,
      "outputs": []
    },
    {
      "cell_type": "code",
      "metadata": {
        "id": "9wcDzorno2Q7"
      },
      "source": [
        "TRAIN_SIZE = len(train_ds)\n",
        "VAL_SIZE = len(val_ds)\n",
        "TEST_SIZE = len(test_ds)"
      ],
      "execution_count": 42,
      "outputs": []
    },
    {
      "cell_type": "code",
      "metadata": {
        "id": "t9jcReE0mb1-"
      },
      "source": [
        "train_ds = performance(train_ds)\n",
        "val_ds = performance(val_ds, False)\n",
        "test_ds = performance(test_ds, False)"
      ],
      "execution_count": 47,
      "outputs": []
    },
    {
      "cell_type": "code",
      "metadata": {
        "id": "K9Ycs40Gm2Au"
      },
      "source": [
        "def custom_standardization(input_data):\n",
        "    lowercase = tf.strings.lower(input_data)\n",
        "    stripped_html = tf.strings.regex_replace(lowercase, '<br />', ' ')\n",
        "    return tf.strings.regex_replace(\n",
        "        stripped_html,\n",
        "        '[%s]' % re.escape(string.punctuation), ''\n",
        "    )\n",
        "\n",
        "# Vocabulary size and number of words in a sequence.\n",
        "vocab_size = 10000\n",
        "sequence_length = 100\n",
        "\n",
        "vectorize_layer = keras.layers.TextVectorization(\n",
        "    standardize=custom_standardization,\n",
        "    max_tokens=vocab_size,\n",
        "    output_mode=\"int\",\n",
        "    output_sequence_length=sequence_length,\n",
        ")\n",
        "\n",
        "vectorize_layer.adapt(train_ds.map(lambda x, y: x))"
      ],
      "execution_count": 26,
      "outputs": []
    },
    {
      "cell_type": "markdown",
      "metadata": {
        "id": "Mu6mwBIkPfp2"
      },
      "source": [
        "## **Modelamiento**\n",
        "- En este caso, usaremos la capa de embedding para procesar los vectores resultantes de la vectorización de textos.\n",
        "\n",
        "![image](https://miro.medium.com/max/700/1*HQmO2NNle730Uk-45ucPcQ.png)"
      ]
    },
    {
      "cell_type": "code",
      "metadata": {
        "id": "ugO3ga6CnajS"
      },
      "source": [
        "embedding_dim = 16\n",
        "\n",
        "model = keras.Sequential([\n",
        "    vectorize_layer,\n",
        "    keras.layers.Embedding(vocab_size, embedding_dim, name=\"embedding\"),\n",
        "    keras.layers.GlobalAveragePooling1D(),\n",
        "    keras.layers.Dense(32, activation=\"relu\"),\n",
        "    keras.layers.Dense(16, activation=\"relu\"),\n",
        "    keras.layers.Dense(1, activation=\"sigmoid\"),\n",
        "])"
      ],
      "execution_count": 27,
      "outputs": []
    },
    {
      "cell_type": "code",
      "metadata": {
        "id": "ulksOyCYn6Pz"
      },
      "source": [
        "model.compile(\n",
        "    optimizer=\"adam\",\n",
        "    loss=\"binary_crossentropy\",\n",
        "    metrics=[\n",
        "        \"acc\", keras.metrics.Recall(), keras.metrics.Precision()]\n",
        ")"
      ],
      "execution_count": 59,
      "outputs": []
    },
    {
      "cell_type": "code",
      "metadata": {
        "colab": {
          "base_uri": "https://localhost:8080/"
        },
        "id": "tswI-AwAoBX5",
        "outputId": "916e76a4-aa17-43c8-9afb-e3bf8a4780e3"
      },
      "source": [
        "model.fit(\n",
        "    train_ds, validation_data=val_ds, \n",
        "    epochs=15, steps_per_epoch=TRAIN_SIZE,\n",
        "    validation_steps=VAL_SIZE,\n",
        ")"
      ],
      "execution_count": 60,
      "outputs": [
        {
          "output_type": "stream",
          "name": "stdout",
          "text": [
            "Epoch 1/15\n",
            "40/40 [==============================] - 8s 79ms/step - loss: 0.0218 - acc: 0.9980 - recall: 0.9967 - precision: 0.9992 - val_loss: 1.0880 - val_acc: 0.8038 - val_recall: 0.7976 - val_precision: 0.8070\n",
            "Epoch 2/15\n",
            "40/40 [==============================] - 7s 77ms/step - loss: 0.0166 - acc: 0.9984 - recall: 0.9973 - precision: 0.9994 - val_loss: 1.1534 - val_acc: 0.8034 - val_recall: 0.8060 - val_precision: 0.8012\n",
            "Epoch 3/15\n",
            "40/40 [==============================] - 6s 75ms/step - loss: 0.0144 - acc: 0.9985 - recall: 0.9976 - precision: 0.9995 - val_loss: 1.2063 - val_acc: 0.8002 - val_recall: 0.8000 - val_precision: 0.7997\n",
            "Epoch 4/15\n",
            "40/40 [==============================] - 7s 70ms/step - loss: 0.0125 - acc: 0.9987 - recall: 0.9976 - precision: 0.9997 - val_loss: 1.2639 - val_acc: 0.8016 - val_recall: 0.8052 - val_precision: 0.7988\n",
            "Epoch 5/15\n",
            "40/40 [==============================] - 7s 81ms/step - loss: 0.0109 - acc: 0.9989 - recall: 0.9980 - precision: 0.9998 - val_loss: 1.3161 - val_acc: 0.8030 - val_recall: 0.8128 - val_precision: 0.7965\n",
            "Epoch 6/15\n",
            "40/40 [==============================] - 9s 78ms/step - loss: 0.0095 - acc: 0.9990 - recall: 0.9981 - precision: 0.9999 - val_loss: 1.3486 - val_acc: 0.8012 - val_recall: 0.8076 - val_precision: 0.7968\n",
            "Epoch 7/15\n",
            "40/40 [==============================] - 7s 72ms/step - loss: 0.0087 - acc: 0.9991 - recall: 0.9982 - precision: 0.9999 - val_loss: 1.3955 - val_acc: 0.8026 - val_recall: 0.8084 - val_precision: 0.7985\n",
            "Epoch 8/15\n",
            "40/40 [==============================] - 9s 79ms/step - loss: 0.0079 - acc: 0.9991 - recall: 0.9982 - precision: 1.0000 - val_loss: 1.4086 - val_acc: 0.7976 - val_recall: 0.7884 - val_precision: 0.8025\n",
            "Epoch 9/15\n",
            "40/40 [==============================] - 7s 79ms/step - loss: 0.0069 - acc: 0.9991 - recall: 0.9985 - precision: 0.9998 - val_loss: 1.4480 - val_acc: 0.7992 - val_recall: 0.7884 - val_precision: 0.8052\n",
            "Epoch 10/15\n",
            "40/40 [==============================] - 8s 79ms/step - loss: 0.0062 - acc: 0.9994 - recall: 0.9989 - precision: 0.9998 - val_loss: 1.5227 - val_acc: 0.7984 - val_recall: 0.7944 - val_precision: 0.8002\n",
            "Epoch 11/15\n",
            "40/40 [==============================] - 8s 73ms/step - loss: 0.0052 - acc: 0.9993 - recall: 0.9989 - precision: 0.9997 - val_loss: 1.5676 - val_acc: 0.8002 - val_recall: 0.7952 - val_precision: 0.8026\n",
            "Epoch 12/15\n",
            "40/40 [==============================] - 8s 79ms/step - loss: 0.0041 - acc: 0.9996 - recall: 0.9993 - precision: 0.9999 - val_loss: 1.6515 - val_acc: 0.8010 - val_recall: 0.8056 - val_precision: 0.7976\n",
            "Epoch 13/15\n",
            "40/40 [==============================] - 7s 81ms/step - loss: 0.0029 - acc: 0.9998 - recall: 0.9995 - precision: 1.0000 - val_loss: 1.6819 - val_acc: 0.8012 - val_recall: 0.8036 - val_precision: 0.7991\n",
            "Epoch 14/15\n",
            "40/40 [==============================] - 9s 79ms/step - loss: 0.0021 - acc: 0.9998 - recall: 0.9997 - precision: 1.0000 - val_loss: 1.7250 - val_acc: 0.7998 - val_recall: 0.8016 - val_precision: 0.7981\n",
            "Epoch 15/15\n",
            "40/40 [==============================] - 8s 74ms/step - loss: 0.0020 - acc: 0.9998 - recall: 0.9997 - precision: 0.9999 - val_loss: 1.7731 - val_acc: 0.7998 - val_recall: 0.8060 - val_precision: 0.7955\n"
          ]
        },
        {
          "output_type": "execute_result",
          "data": {
            "text/plain": [
              "<keras.callbacks.History at 0x7fb699b61d10>"
            ]
          },
          "metadata": {},
          "execution_count": 60
        }
      ]
    },
    {
      "cell_type": "code",
      "metadata": {
        "colab": {
          "base_uri": "https://localhost:8080/"
        },
        "id": "o7SJcjSRoF0A",
        "outputId": "d56c287b-834b-4635-8efd-641578642261"
      },
      "source": [
        "model.summary()"
      ],
      "execution_count": 61,
      "outputs": [
        {
          "output_type": "stream",
          "name": "stdout",
          "text": [
            "Model: \"sequential\"\n",
            "_________________________________________________________________\n",
            "Layer (type)                 Output Shape              Param #   \n",
            "=================================================================\n",
            "text_vectorization_1 (TextVe (None, 100)               0         \n",
            "_________________________________________________________________\n",
            "embedding (Embedding)        (None, 100, 16)           160000    \n",
            "_________________________________________________________________\n",
            "global_average_pooling1d (Gl (None, 16)                0         \n",
            "_________________________________________________________________\n",
            "dense (Dense)                (None, 32)                544       \n",
            "_________________________________________________________________\n",
            "dense_1 (Dense)              (None, 16)                528       \n",
            "_________________________________________________________________\n",
            "dense_2 (Dense)              (None, 1)                 17        \n",
            "=================================================================\n",
            "Total params: 161,089\n",
            "Trainable params: 161,089\n",
            "Non-trainable params: 0\n",
            "_________________________________________________________________\n"
          ]
        }
      ]
    },
    {
      "cell_type": "markdown",
      "metadata": {
        "id": "8UQhEVoxQkQJ"
      },
      "source": [
        "## **Validación**"
      ]
    },
    {
      "cell_type": "code",
      "metadata": {
        "colab": {
          "base_uri": "https://localhost:8080/"
        },
        "id": "Olwlyu8DoU9a",
        "outputId": "bd7a5fbc-243c-48ed-9567-ae1b3f86ce30"
      },
      "source": [
        "model.evaluate(test_ds, steps=TEST_SIZE)"
      ],
      "execution_count": 62,
      "outputs": [
        {
          "output_type": "stream",
          "name": "stdout",
          "text": [
            "49/49 [==============================] - 7s 127ms/step - loss: 2.0091 - acc: 0.7614 - recall: 0.7416 - precision: 0.7721\n"
          ]
        },
        {
          "output_type": "execute_result",
          "data": {
            "text/plain": [
              "[2.0090858936309814, 0.7613599896430969, 0.741599977016449, 0.7721139192581177]"
            ]
          },
          "metadata": {},
          "execution_count": 62
        }
      ]
    },
    {
      "cell_type": "code",
      "metadata": {
        "id": "QyuLvDIbq16-"
      },
      "source": [
        "test = np.array([\n",
        "    '''This was an awful short film that tries to be funny \n",
        "    in a dark way but wasn\\'t funny at all. Say at a film \n",
        "    festival in Chicago. It really is what the title says and \n",
        "    I simply wasn\\'t into it at all. The bad storytelling was \n",
        "    what did it in. If you re-wrote it and re-shot it, it \"might\" \n",
        "    work. This attempt fell in \"the hole\". Horrible filmmaking.''',\n",
        "    '''I first saw it at 5am January 1, 2009, and after a day \n",
        "    i watched it again and i want to watch it again. Love everything \n",
        "    (well, almost, so 9 stars) about it. No color, beautiful naive \n",
        "    stories, funny gangsters, Anna, camera work, music. Well, \n",
        "    sometimes you just want to listen little bit longer and the music \n",
        "    just stops. But this is not a musical after all. I like Anna's \n",
        "    acting, this naive wannabe gangster girl, how she speaks, \n",
        "    holds the gun, everything makes me smile. No, it's not that \n",
        "    funny, though i have laughed a bit at some moments, it's \n",
        "    just so subtle. Excellent work by Samuel Benchetrit. Though \n",
        "    3d nouvelle seems weaker, but they are also gangsters, maybe \n",
        "    even worse, cause they are stealing ideas. And the last scene \n",
        "    is my favorite. Makes me feel so warm and.. romantic. Yes, \n",
        "    i would recommend this movie for the romantic souls with a taste \n",
        "    for such art-housish movies. And i don't agree with those \n",
        "    comparing it to Pulp Fiction. It's not about action and twisted \n",
        "    story, though all vignettes intersect. It's calm, and maybe too \n",
        "    slow movie for most of the people. It's about characters, their \n",
        "    feelings, very subtle. Anyway, probably this review won't be of \n",
        "    much help to anyone (my first), just wanted to express my \n",
        "    appreciation.<br /><br />SPOILER: This movie doesn't have a \n",
        "    Goofs section. Wonder, didn't anybody notice that hand in the 2 \n",
        "    part when the kidnappers decided to go home? Looks like a part \n",
        "    of crew, hehe. I know i should better post this in forums, but \n",
        "    i don't agree with some policies here.''',\n",
        "    '''jeez, this was immensely boring. the leading man \n",
        "    (Christian Schoyen) has got to be the worst actor i have ever \n",
        "    seen. and another thing, if the character in the movie moved to \n",
        "    America when he was ten or something and had been living here \n",
        "    for over 20 years, he would speak a lot better English than \n",
        "    what he pulls of here. or to say it in my own Language \"Skikkelig \n",
        "    gebrokkent\". But it is cool to see Norwegian dudes in a movie \n",
        "    made in Hollywood. it was just a damn shame they were talentless \n",
        "    hacks. The storyline itself is below mediocre. I have a suspicion \n",
        "    that Christian Schoyen did this movie just to live the dream, as \n",
        "    he clearly does in the film by humping one beautiful babe after \n",
        "    another.''',\n",
        "])"
      ],
      "execution_count": 72,
      "outputs": []
    },
    {
      "cell_type": "code",
      "metadata": {
        "colab": {
          "base_uri": "https://localhost:8080/"
        },
        "id": "cfzLgmL4q3E4",
        "outputId": "546c61b1-08a8-4f37-8286-7079f4db2d38"
      },
      "source": [
        "model.predict(test)"
      ],
      "execution_count": 73,
      "outputs": [
        {
          "output_type": "execute_result",
          "data": {
            "text/plain": [
              "array([[1.4060736e-04],\n",
              "       [9.9995989e-01],\n",
              "       [8.7552056e-05]], dtype=float32)"
            ]
          },
          "metadata": {},
          "execution_count": 73
        }
      ]
    },
    {
      "cell_type": "code",
      "metadata": {
        "id": "YUJp30RErJxV"
      },
      "source": [
        ""
      ],
      "execution_count": null,
      "outputs": []
    }
  ]
}